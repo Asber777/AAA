{
 "cells": [
  {
   "cell_type": "code",
   "execution_count": 2,
   "metadata": {},
   "outputs": [
    {
     "data": {
      "text/plain": [
       "('1.7.1', True)"
      ]
     },
     "execution_count": 2,
     "metadata": {},
     "output_type": "execute_result"
    }
   ],
   "source": [
    "import torch \n",
    "torch.__version__, torch.cuda.is_available()"
   ]
  },
  {
   "cell_type": "code",
   "execution_count": null,
   "metadata": {},
   "outputs": [],
   "source": [
    "import os\n",
    "import matplotlib\n",
    "from torch.utils.data import DataLoader\n",
    "import torchvision.datasets as datasets\n",
    "import torchvision.transforms as transforms\n",
    "root = '/home/.faa'\n",
    "data_path = os.path.join(root, 'data')\n",
    "def cifar10_data(train, batch_size):\n",
    "    cifar10 = datasets.CIFAR10(data_path, train=train, transform=transforms.ToTensor())\n",
    "    loader = DataLoader(cifar10, batch_size=batch_size, shuffle=True,)\n",
    "    return loader\n",
    "data = cifar10_data(False, 128)"
   ]
  },
  {
   "cell_type": "code",
   "execution_count": null,
   "metadata": {},
   "outputs": [],
   "source": [
    "import torchvision\n",
    "torchvision.__version__"
   ]
  },
  {
   "cell_type": "code",
   "execution_count": null,
   "metadata": {},
   "outputs": [],
   "source": [
    "from robustbench.utils import load_model\n",
    "model_path = os.path.join(root, 'model')\n",
    "model = load_model(model_name='Carmon2019Unlabeled', model_dir=model_path, dataset='cifar10',threat_model='Linf')"
   ]
  },
  {
   "cell_type": "code",
   "execution_count": null,
   "metadata": {},
   "outputs": [],
   "source": [
    "import numpy as np\n",
    "num_trials = 10\n",
    "for x, y in data:\n",
    "    x_hsv = matplotlib.colors.rgb_to_hsv(x)\n",
    "    for i in range(num_trials):\n",
    "        # Randomly shift Hue and Saturation components\n",
    "        X_adv_hsv = np.copy(X_hsv)\n",
    "        d_h = np.random.uniform(0, 1, size=(X_adv_hsv.shape[0],1))\n",
    "        d_s = np.random.uniform(-1, 1, size=(X_adv_hsv.shape[0],1)) * float(i) / num_trials\n",
    "\n",
    "        for j in range(X_adv_hsv.shape[0]):\n",
    "            X_adv_hsv[j, :, :, 0] = (X_hsv[j, :, :, 0] + d_h[j]) % 1.0\n",
    "            X_adv_hsv[j, :, :, 1] = np.clip(X_hsv[j, :, :, 1] + d_s[j], 0., 1.)\n",
    "\n",
    "        X = matplotlib.colors.hsv_to_rgb(X_adv_hsv)\n",
    "        X = np.clip(X, 0., 1.)\n",
    "\n",
    "        # extract out wrongly-classified images\n",
    "\n",
    "        pred_label = np.argmax(model.predict(data_normalize(X * 255.)), axis=1)\n",
    "        wrong_labels = pred_label != y.reshape(-1)\n",
    "        \n",
    "        X_adv.append(X[wrong_labels]) # store wrongly-classified images\n",
    "\n",
    "        X_hsv = X_hsv[wrong_labels == 0]\n",
    "        y = y[wrong_labels == 0]\n",
    "\n",
    "        adv_succ_num[i + 1] = np.sum(wrong_labels)\n",
    "\n",
    "        print('Trial ' + str(i+1) +\n",
    "              ', Attack success rate: ' + str(np.sum(adv_succ_num)/N))\n",
    "\n",
    "    return X_adv, adv_succ_num"
   ]
  }
 ],
 "metadata": {
  "interpreter": {
   "hash": "3dd9c0a7293fe52e0bd5679ab65d7849826ca91297a709c1517669dc9d173a15"
  },
  "kernelspec": {
   "display_name": "Python 3.7.13 ('mmid')",
   "language": "python",
   "name": "python3"
  },
  "language_info": {
   "codemirror_mode": {
    "name": "ipython",
    "version": 3
   },
   "file_extension": ".py",
   "mimetype": "text/x-python",
   "name": "python",
   "nbconvert_exporter": "python",
   "pygments_lexer": "ipython3",
   "version": "3.7.13"
  },
  "orig_nbformat": 4
 },
 "nbformat": 4,
 "nbformat_minor": 2
}
