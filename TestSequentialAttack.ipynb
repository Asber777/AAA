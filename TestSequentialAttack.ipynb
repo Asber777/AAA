{
 "cells": [
  {
   "cell_type": "markdown",
   "source": [
    "我先对\"Carmon2019Unlabeled\"网络进行了标准PGD攻击,     \n",
    "Accuracy: 89.69%, Robust Accuracy: 62.55%,     \n",
    "然后组合攻击, 先进行了saturate的corruption, 生成x_cor, 然后对x_cor进行PGD,      \n",
    "结果为Accuracy: 86.73%(x_cor的acc), Robust Accuracy: 53.58%.      \n",
    "为了验证组合攻击并非单纯的叠加作用, 而是惯序攻击,     \n",
    "我进行了先PGD, 后saturate的corruption的攻击,      \n",
    "结果Accuracy: 89.69%, Robust Accuracy: 66.93%     "
   ],
   "metadata": {}
  },
  {
   "cell_type": "code",
   "execution_count": 3,
   "source": [
    "import os\n",
    "import numpy as np\n",
    "from torch.utils.data import DataLoader\n",
    "import torchvision.datasets as datasets\n",
    "from torch.utils.data import Subset\n",
    "import torchvision.transforms as transforms\n",
    "# from torch.nn import Softmax\n",
    "from robustbench.utils import load_model\n",
    "root = '/home/.faa'\n",
    "model_path = os.path.join(root, 'model')\n",
    "data_path = os.path.join(root, 'data')\n",
    "model = load_model(model_name='Carmon2019Unlabeled', model_dir=model_path, dataset='cifar10',threat_model='Linf')\n",
    "\n",
    "def cifar10_data(train, batch_size):\n",
    "    cifar10 = datasets.CIFAR10(data_path, train=train, transform=transforms.ToTensor())\n",
    "    loader = DataLoader(cifar10, batch_size=batch_size, shuffle=True,)\n",
    "    return loader\n",
    "loader = cifar10_data(False, 128)"
   ],
   "outputs": [],
   "metadata": {}
  },
  {
   "cell_type": "code",
   "execution_count": 2,
   "source": [
    "import torch.nn as nn\n",
    "from advertorch.attacks.utils import multiple_mini_batch_attack\n",
    "from advertorch.attacks import LinfPGDAttack\n",
    "model = model.cuda()\n",
    "adversary = LinfPGDAttack(model, nn.CrossEntropyLoss(reduction=\"sum\"), eps=8. / 255,\n",
    "    nb_iter=20, eps_iter=2. / 255, rand_init=False, clip_min=0.0, clip_max=1.0,\n",
    "    targeted=False)\n",
    "label, pred, advpred, _ = multiple_mini_batch_attack(\n",
    "    adversary, loader, device=\"cuda\")\n",
    "\n",
    "print(\"Accuracy: {:.2f}%, Robust Accuracy: {:.2f}%\".format(\n",
    "    100. * (label == pred).sum().item() / len(label),\n",
    "    100. * (label == advpred).sum().item() / len(label)))"
   ],
   "outputs": [
    {
     "output_type": "stream",
     "name": "stdout",
     "text": [
      "Accuracy: 89.69%, Robust Accuracy: 62.55%\n"
     ]
    }
   ],
   "metadata": {}
  },
  {
   "cell_type": "code",
   "execution_count": 28,
   "source": [
    "import torch\n",
    "from advertorch.utils import predict_from_logits\n",
    "from CorruptionAttacks import ApplyCorruptions\n",
    "def multiple_mini_batch_attack_with_corruptions(\n",
    "        adversary, loader, device=\"cuda\", corruption_name=False,\n",
    "        norm=None, num_batch=None):\n",
    "    lst_label = []\n",
    "    lst_pred = []\n",
    "    lst_advpred = []\n",
    "    lst_dist = []\n",
    "\n",
    "    _norm_convert_dict = {\"Linf\": \"inf\", \"L2\": 2, \"L1\": 1}\n",
    "    if norm in _norm_convert_dict:\n",
    "        norm = _norm_convert_dict[norm]\n",
    "\n",
    "    if norm == \"inf\":\n",
    "        def dist_func(x, y):\n",
    "            return (x - y).view(x.size(0), -1).max(dim=1)[0]\n",
    "    elif norm == 1 or norm == 2:\n",
    "        from advertorch.utils import _get_norm_batch\n",
    "\n",
    "        def dist_func(x, y):\n",
    "            return _get_norm_batch(x - y, norm)\n",
    "    else:\n",
    "        assert norm is None\n",
    "\n",
    "    idx_batch = 0\n",
    "\n",
    "    for data, label in loader:\n",
    "        print(data.shape)\n",
    "        data, label = data.to(device), label.to(device)\n",
    "        corruptions = ApplyCorruptions(data, 1, corruption_name)\n",
    "        adv = adversary.perturb(corruptions, label)\n",
    "        advpred = predict_from_logits(adversary.predict(adv))\n",
    "        pred = predict_from_logits(adversary.predict(corruptions))\n",
    "        lst_label.append(label)\n",
    "        lst_pred.append(pred)\n",
    "        lst_advpred.append(advpred)\n",
    "        if norm is not None:\n",
    "            lst_dist.append(dist_func(data, adv))\n",
    "\n",
    "        idx_batch += 1\n",
    "        if idx_batch == num_batch:\n",
    "            break\n",
    "\n",
    "    return torch.cat(lst_label), torch.cat(lst_pred), torch.cat(lst_advpred), \\\n",
    "           torch.cat(lst_dist) if norm is not None else None"
   ],
   "outputs": [],
   "metadata": {}
  },
  {
   "cell_type": "code",
   "execution_count": 9,
   "source": [
    "import torch.nn as nn\n",
    "from advertorch.attacks import LinfPGDAttack\n",
    "model = model.cuda()\n",
    "adversary = LinfPGDAttack(model, nn.CrossEntropyLoss(reduction=\"sum\"), eps=8. / 255,\n",
    "    nb_iter=20, eps_iter=2. / 255, rand_init=False, clip_min=0.0, clip_max=1.0,\n",
    "    targeted=False)\n",
    "label, pred, advpred, _ = multiple_mini_batch_attack_with_corruptions(\n",
    "    adversary, loader,device=\"cuda\", corruption_name='saturate')\n",
    "\n",
    "print(\"Accuracy: {:.2f}%, Robust Accuracy: {:.2f}%\".format(\n",
    "    100. * (label == pred).sum().item() / len(label),\n",
    "    100. * (label == advpred).sum().item() / len(label)))"
   ],
   "outputs": [
    {
     "output_type": "stream",
     "name": "stdout",
     "text": [
      "Accuracy: 86.73%, Robust Accuracy: 53.58%\n"
     ]
    }
   ],
   "metadata": {}
  },
  {
   "cell_type": "code",
   "execution_count": 15,
   "source": [
    "from matplotlib import pyplot as plt\n",
    "for x, y in loader:\n",
    "    break\n",
    "x_ori = x[0].clone().detach()\n",
    "x_adv = x[0].clone().detach()\n",
    "x_ori = x_ori.swapaxes(0,1)\n",
    "x_ori = x_ori.swapaxes(1,2)\n",
    "# x_ori = (x_ori * 255).astype(np.uint8)\n",
    "plt.imshow(x_ori) # 显示图片\n",
    "plt.axis('off') # 不显示坐标轴\n",
    "plt.show()"
   ],
   "outputs": [
    {
     "output_type": "display_data",
     "data": {
      "text/plain": [
       "<Figure size 432x288 with 1 Axes>"
      ],
      "image/png": "[encoded data removed]"
     },
     "metadata": {
      "needs_background": "light"
     }
    }
   ],
   "metadata": {}
  },
  {
   "cell_type": "code",
   "execution_count": 16,
   "source": [
    "x_adv = x_adv.cpu().numpy()\n",
    "x_adv = (x_adv * 255).astype(np.uint8)\n",
    "x_adv = x_adv.swapaxes(0,1)\n",
    "x_adv = x_adv.swapaxes(1,2)\n",
    "from imagenet_c import corrupt\n",
    "corrupt_x = corrupt(x_adv, corruption_name='saturate', severity=int(1))\n",
    "plt.imshow(corrupt_x) # 显示图片\n",
    "plt.axis('off') # 不显示坐标轴\n",
    "plt.show()"
   ],
   "outputs": [
    {
     "output_type": "display_data",
     "data": {
      "text/plain": [
       "<Figure size 432x288 with 1 Axes>"
      ],
      "image/png": "[encoded data removed]"
     },
     "metadata": {
      "needs_background": "light"
     }
    }
   ],
   "metadata": {}
  },
  {
   "cell_type": "code",
   "execution_count": 22,
   "source": [
    "x_adv = torch.from_numpy(corrupt_x).float().permute((2,0,1)).cuda()"
   ],
   "outputs": [],
   "metadata": {}
  },
  {
   "cell_type": "code",
   "execution_count": 10,
   "source": [
    "import torch\n",
    "from advertorch.utils import predict_from_logits\n",
    "from CorruptionAttacks import ApplyCorruptions\n",
    "def multiple_mini_batch_attack_after_corruptions(\n",
    "        adversary, loader, device=\"cuda\", corruption_name=False,\n",
    "        norm=None, num_batch=None):\n",
    "    lst_label = []\n",
    "    lst_pred = []\n",
    "    lst_advpred = []\n",
    "    lst_dist = []\n",
    "\n",
    "    _norm_convert_dict = {\"Linf\": \"inf\", \"L2\": 2, \"L1\": 1}\n",
    "    if norm in _norm_convert_dict:\n",
    "        norm = _norm_convert_dict[norm]\n",
    "\n",
    "    if norm == \"inf\":\n",
    "        def dist_func(x, y):\n",
    "            return (x - y).view(x.size(0), -1).max(dim=1)[0]\n",
    "    elif norm == 1 or norm == 2:\n",
    "        from advertorch.utils import _get_norm_batch\n",
    "\n",
    "        def dist_func(x, y):\n",
    "            return _get_norm_batch(x - y, norm)\n",
    "    else:\n",
    "        assert norm is None\n",
    "\n",
    "    idx_batch = 0\n",
    "\n",
    "    for data, label in loader:\n",
    "        data, label = data.to(device), label.to(device)\n",
    "        adv = adversary.perturb(data, label)\n",
    "        adv = ApplyCorruptions(adv, 1, corruption_name)\n",
    "        advpred = predict_from_logits(adversary.predict(adv))\n",
    "        pred = predict_from_logits(adversary.predict(data))\n",
    "        lst_label.append(label)\n",
    "        lst_pred.append(pred)\n",
    "        lst_advpred.append(advpred)\n",
    "        if norm is not None:\n",
    "            lst_dist.append(dist_func(data, adv))\n",
    "\n",
    "        idx_batch += 1\n",
    "        if idx_batch == num_batch:\n",
    "            break\n",
    "\n",
    "    return torch.cat(lst_label), torch.cat(lst_pred), torch.cat(lst_advpred), \\\n",
    "           torch.cat(lst_dist) if norm is not None else None"
   ],
   "outputs": [],
   "metadata": {}
  },
  {
   "cell_type": "code",
   "execution_count": 27,
   "source": [
    "import torch.nn as nn\n",
    "from advertorch.attacks import LinfPGDAttack\n",
    "model = model.cuda()\n",
    "adversary = LinfPGDAttack(model, nn.CrossEntropyLoss(reduction=\"sum\"), eps=8. / 255,\n",
    "    nb_iter=20, eps_iter=2. / 255, rand_init=False, clip_min=0.0, clip_max=1.0,\n",
    "    targeted=False)\n",
    "label, pred, advpred, _ = multiple_mini_batch_attack_after_corruptions(\n",
    "    adversary, loader,device=\"cuda\", corruption_name='saturate')\n",
    "\n",
    "print(\"Accuracy: {:.2f}%, Robust Accuracy: {:.2f}%\".format(\n",
    "    100. * (label == pred).sum().item() / len(label),\n",
    "    100. * (label == advpred).sum().item() / len(label)))"
   ],
   "outputs": [
    {
     "output_type": "stream",
     "name": "stdout",
     "text": [
      "Accuracy: 89.69%, Robust Accuracy: 66.93%\n"
     ]
    }
   ],
   "metadata": {}
  },
  {
   "cell_type": "markdown",
   "source": [
    "for more attack"
   ],
   "metadata": {}
  },
  {
   "cell_type": "code",
   "execution_count": 1,
   "source": [
    "op = ['contrast', 'motion_blur', 'zoom_blur', 'spatter', 'pixelate', 'brightness']#'saturate'"
   ],
   "outputs": [],
   "metadata": {}
  },
  {
   "cell_type": "code",
   "execution_count": null,
   "source": [
    "for x, y in loader:\n",
    "    break"
   ],
   "outputs": [],
   "metadata": {}
  },
  {
   "cell_type": "code",
   "execution_count": 12,
   "source": [
    "import torch.nn as nn\n",
    "from advertorch.attacks import LinfPGDAttack\n",
    "from matplotlib import pyplot as plt\n",
    "from imagenet_c import corrupt\n",
    "model = model.cuda()\n",
    "adversary = LinfPGDAttack(model, nn.CrossEntropyLoss(reduction=\"sum\"), eps=8. / 255,\n",
    "    nb_iter=20, eps_iter=2. / 255, rand_init=False, clip_min=0.0, clip_max=1.0,\n",
    "    targeted=False)\n",
    "\n",
    "for operation in op:\n",
    "    label, pred, advpred, _ = multiple_mini_batch_attack_with_corruptions(\n",
    "        adversary, loader,device=\"cuda\", corruption_name=operation)\n",
    "\n",
    "    print(\"{}, Accuracy: {:.2f}%, Robust Accuracy: {:.2f}%\".format(\n",
    "        operation, \n",
    "        100. * (label == pred).sum().item() / len(label),\n",
    "        100. * (label == advpred).sum().item() / len(label)))\n",
    "\n",
    "    x_adv = x.clone().detach()\n",
    "    x_adv = x_adv.cpu().numpy()\n",
    "    x_adv = (x_adv * 255).astype(np.uint8)\n",
    "    x_adv = x_adv.swapaxes(0,1)\n",
    "    x_adv = x_adv.swapaxes(1,2)\n",
    "    corrupt_x = corrupt(x_adv, corruption_name='saturate', severity=int(1))\n",
    "    plt.imshow(corrupt_x) # 显示图片\n",
    "    plt.axis('off') # 不显示坐标轴\n",
    "    plt.show()"
   ],
   "outputs": [
    {
     "output_type": "stream",
     "name": "stdout",
     "text": [
      "contrast, Accuracy: 47.54%, Robust Accuracy: 9.10%\n"
     ]
    },
    {
     "output_type": "error",
     "ename": "AxisError",
     "evalue": "axis2: axis 2 is out of bounds for array of dimension 2",
     "traceback": [
      "\u001b[0;31m---------------------------------------------------------------------------\u001b[0m",
      "\u001b[0;31mAxisError\u001b[0m                                 Traceback (most recent call last)",
      "\u001b[0;32m/tmp/ipykernel_8687/1207125371.py\u001b[0m in \u001b[0;36m<module>\u001b[0;34m\u001b[0m\n\u001b[1;32m     21\u001b[0m     \u001b[0mx_adv\u001b[0m \u001b[0;34m=\u001b[0m \u001b[0;34m(\u001b[0m\u001b[0mx_adv\u001b[0m \u001b[0;34m*\u001b[0m \u001b[0;36m255\u001b[0m\u001b[0;34m)\u001b[0m\u001b[0;34m.\u001b[0m\u001b[0mastype\u001b[0m\u001b[0;34m(\u001b[0m\u001b[0mnp\u001b[0m\u001b[0;34m.\u001b[0m\u001b[0muint8\u001b[0m\u001b[0;34m)\u001b[0m\u001b[0;34m\u001b[0m\u001b[0;34m\u001b[0m\u001b[0m\n\u001b[1;32m     22\u001b[0m     \u001b[0mx_adv\u001b[0m \u001b[0;34m=\u001b[0m \u001b[0mx_adv\u001b[0m\u001b[0;34m.\u001b[0m\u001b[0mswapaxes\u001b[0m\u001b[0;34m(\u001b[0m\u001b[0;36m0\u001b[0m\u001b[0;34m,\u001b[0m\u001b[0;36m1\u001b[0m\u001b[0;34m)\u001b[0m\u001b[0;34m\u001b[0m\u001b[0;34m\u001b[0m\u001b[0m\n\u001b[0;32m---> 23\u001b[0;31m     \u001b[0mx_adv\u001b[0m \u001b[0;34m=\u001b[0m \u001b[0mx_adv\u001b[0m\u001b[0;34m.\u001b[0m\u001b[0mswapaxes\u001b[0m\u001b[0;34m(\u001b[0m\u001b[0;36m1\u001b[0m\u001b[0;34m,\u001b[0m\u001b[0;36m2\u001b[0m\u001b[0;34m)\u001b[0m\u001b[0;34m\u001b[0m\u001b[0;34m\u001b[0m\u001b[0m\n\u001b[0m\u001b[1;32m     24\u001b[0m     \u001b[0mcorrupt_x\u001b[0m \u001b[0;34m=\u001b[0m \u001b[0mcorrupt\u001b[0m\u001b[0;34m(\u001b[0m\u001b[0mx_adv\u001b[0m\u001b[0;34m,\u001b[0m \u001b[0mcorruption_name\u001b[0m\u001b[0;34m=\u001b[0m\u001b[0;34m'saturate'\u001b[0m\u001b[0;34m,\u001b[0m \u001b[0mseverity\u001b[0m\u001b[0;34m=\u001b[0m\u001b[0mint\u001b[0m\u001b[0;34m(\u001b[0m\u001b[0;36m1\u001b[0m\u001b[0;34m)\u001b[0m\u001b[0;34m)\u001b[0m\u001b[0;34m\u001b[0m\u001b[0;34m\u001b[0m\u001b[0m\n\u001b[1;32m     25\u001b[0m     \u001b[0mplt\u001b[0m\u001b[0;34m.\u001b[0m\u001b[0mimshow\u001b[0m\u001b[0;34m(\u001b[0m\u001b[0mcorrupt_x\u001b[0m\u001b[0;34m)\u001b[0m \u001b[0;31m# 显示图片\u001b[0m\u001b[0;34m\u001b[0m\u001b[0;34m\u001b[0m\u001b[0m\n",
      "\u001b[0;31mAxisError\u001b[0m: axis2: axis 2 is out of bounds for array of dimension 2"
     ]
    }
   ],
   "metadata": {}
  },
  {
   "cell_type": "code",
   "execution_count": 21,
   "source": [
    "x_adv = x.clone().detach()\n",
    "x_adv = x_adv.cpu().numpy()\n",
    "x_adv = (x_adv * 255).astype(np.uint8)\n",
    "corrupt_x = corrupt(x_adv, corruption_name='saturate', severity=int(1))\n",
    "plt.imshow(corrupt_x) # 显示图片\n",
    "plt.axis('off') # 不显示坐标轴\n",
    "plt.show()"
   ],
   "outputs": [
    {
     "output_type": "display_data",
     "data": {
      "text/plain": [
       "<Figure size 432x288 with 1 Axes>"
      ],
      "image/png": "[encoded data removed]"
     },
     "metadata": {
      "needs_background": "light"
     }
    }
   ],
   "metadata": {}
  },
  {
   "cell_type": "code",
   "execution_count": null,
   "source": [
    "import torch\n",
    "from advertorch.utils import predict_from_logits\n",
    "from CorruptionAttacks import ApplyCorruptions\n",
    "def multiple_mini_batch_attack_with_corruptions(\n",
    "        adversary, loader, device=\"cuda\", corruption_name=False,\n",
    "        norm=None, num_batch=None):\n",
    "    lst_label = []\n",
    "    lst_pred = []\n",
    "    lst_advpred = []\n",
    "    lst_dist = []\n",
    "\n",
    "    _norm_convert_dict = {\"Linf\": \"inf\", \"L2\": 2, \"L1\": 1}\n",
    "    if norm in _norm_convert_dict:\n",
    "        norm = _norm_convert_dict[norm]\n",
    "\n",
    "    if norm == \"inf\":\n",
    "        def dist_func(x, y):\n",
    "            return (x - y).view(x.size(0), -1).max(dim=1)[0]\n",
    "    elif norm == 1 or norm == 2:\n",
    "        from advertorch.utils import _get_norm_batch\n",
    "\n",
    "        def dist_func(x, y):\n",
    "            return _get_norm_batch(x - y, norm)\n",
    "    else:\n",
    "        assert norm is None\n",
    "\n",
    "    idx_batch = 0\n",
    "\n",
    "    for data, label in loader:\n",
    "        data, label = data.to(device), label.to(device)\n",
    "        corruptions = ApplyCorruptions(data, 1, corruption_name)\n",
    "        adv = adversary.perturb(corruptions, label)\n",
    "        advpred = predict_from_logits(adversary.predict(adv))\n",
    "        pred = predict_from_logits(adversary.predict(corruptions))\n",
    "        lst_label.append(label)\n",
    "        lst_pred.append(pred)\n",
    "        lst_advpred.append(advpred)\n",
    "        if norm is not None:\n",
    "            lst_dist.append(dist_func(data, adv))\n",
    "\n",
    "        idx_batch += 1\n",
    "        if idx_batch == num_batch:\n",
    "            break\n",
    "\n",
    "    return torch.cat(lst_label), torch.cat(lst_pred), torch.cat(lst_advpred), \\\n",
    "           torch.cat(lst_dist) if norm is not None else None"
   ],
   "outputs": [],
   "metadata": {}
  },
  {
   "cell_type": "code",
   "execution_count": 31,
   "source": [
    "import torch.nn as nn\n",
    "from advertorch.attacks import LinfPGDAttack\n",
    "from matplotlib import pyplot as plt\n",
    "from imagenet_c import corrupt\n",
    "\n",
    "op = ['motion_blur', 'zoom_blur', 'spatter', 'pixelate', 'brightness']#'saturate'\n",
    "model = model.cuda()\n",
    "loader = cifar10_data(False, 128)\n",
    "adversary = LinfPGDAttack(model, nn.CrossEntropyLoss(reduction=\"sum\"), eps=8. / 255,\n",
    "    nb_iter=20, eps_iter=2. / 255, rand_init=False, clip_min=0.0, clip_max=1.0,\n",
    "    targeted=False)\n",
    "\n",
    "for operation in op:\n",
    "    label, pred, advpred, _ = multiple_mini_batch_attack_with_corruptions(\n",
    "        adversary, loader, device=\"cuda\", corruption_name=operation)\n",
    "\n",
    "    print(\"{}, Accuracy: {:.2f}%, Robust Accuracy: {:.2f}%\".format(\n",
    "        operation, \n",
    "        100. * (label == pred).sum().item() / len(label),\n",
    "        100. * (label == advpred).sum().item() / len(label)))\n"
   ],
   "outputs": [
    {
     "output_type": "stream",
     "name": "stdout",
     "text": [
      "torch.Size([128, 3, 32, 32])\n"
     ]
    },
    {
     "output_type": "error",
     "ename": "RuntimeError",
     "evalue": "number of dims don't match in permute",
     "traceback": [
      "\u001b[0;31m---------------------------------------------------------------------------\u001b[0m",
      "\u001b[0;31mRuntimeError\u001b[0m                              Traceback (most recent call last)",
      "\u001b[0;32m/tmp/ipykernel_8687/3370167080.py\u001b[0m in \u001b[0;36m<module>\u001b[0;34m\u001b[0m\n\u001b[1;32m     13\u001b[0m \u001b[0;32mfor\u001b[0m \u001b[0moperation\u001b[0m \u001b[0;32min\u001b[0m \u001b[0mop\u001b[0m\u001b[0;34m:\u001b[0m\u001b[0;34m\u001b[0m\u001b[0;34m\u001b[0m\u001b[0m\n\u001b[1;32m     14\u001b[0m     label, pred, advpred, _ = multiple_mini_batch_attack_with_corruptions(\n\u001b[0;32m---> 15\u001b[0;31m         adversary, loader, device=\"cuda\", corruption_name=operation)\n\u001b[0m\u001b[1;32m     16\u001b[0m \u001b[0;34m\u001b[0m\u001b[0m\n\u001b[1;32m     17\u001b[0m     print(\"{}, Accuracy: {:.2f}%, Robust Accuracy: {:.2f}%\".format(\n",
      "\u001b[0;32m/tmp/ipykernel_8687/826968621.py\u001b[0m in \u001b[0;36mmultiple_mini_batch_attack_with_corruptions\u001b[0;34m(adversary, loader, device, corruption_name, norm, num_batch)\u001b[0m\n\u001b[1;32m     30\u001b[0m         \u001b[0mprint\u001b[0m\u001b[0;34m(\u001b[0m\u001b[0mdata\u001b[0m\u001b[0;34m.\u001b[0m\u001b[0mshape\u001b[0m\u001b[0;34m)\u001b[0m\u001b[0;34m\u001b[0m\u001b[0;34m\u001b[0m\u001b[0m\n\u001b[1;32m     31\u001b[0m         \u001b[0mdata\u001b[0m\u001b[0;34m,\u001b[0m \u001b[0mlabel\u001b[0m \u001b[0;34m=\u001b[0m \u001b[0mdata\u001b[0m\u001b[0;34m.\u001b[0m\u001b[0mto\u001b[0m\u001b[0;34m(\u001b[0m\u001b[0mdevice\u001b[0m\u001b[0;34m)\u001b[0m\u001b[0;34m,\u001b[0m \u001b[0mlabel\u001b[0m\u001b[0;34m.\u001b[0m\u001b[0mto\u001b[0m\u001b[0;34m(\u001b[0m\u001b[0mdevice\u001b[0m\u001b[0;34m)\u001b[0m\u001b[0;34m\u001b[0m\u001b[0;34m\u001b[0m\u001b[0m\n\u001b[0;32m---> 32\u001b[0;31m         \u001b[0mcorruptions\u001b[0m \u001b[0;34m=\u001b[0m \u001b[0mApplyCorruptions\u001b[0m\u001b[0;34m(\u001b[0m\u001b[0mdata\u001b[0m\u001b[0;34m,\u001b[0m \u001b[0;36m1\u001b[0m\u001b[0;34m,\u001b[0m \u001b[0mcorruption_name\u001b[0m\u001b[0;34m)\u001b[0m\u001b[0;34m\u001b[0m\u001b[0;34m\u001b[0m\u001b[0m\n\u001b[0m\u001b[1;32m     33\u001b[0m         \u001b[0madv\u001b[0m \u001b[0;34m=\u001b[0m \u001b[0madversary\u001b[0m\u001b[0;34m.\u001b[0m\u001b[0mperturb\u001b[0m\u001b[0;34m(\u001b[0m\u001b[0mcorruptions\u001b[0m\u001b[0;34m,\u001b[0m \u001b[0mlabel\u001b[0m\u001b[0;34m)\u001b[0m\u001b[0;34m\u001b[0m\u001b[0;34m\u001b[0m\u001b[0m\n\u001b[1;32m     34\u001b[0m         \u001b[0madvpred\u001b[0m \u001b[0;34m=\u001b[0m \u001b[0mpredict_from_logits\u001b[0m\u001b[0;34m(\u001b[0m\u001b[0madversary\u001b[0m\u001b[0;34m.\u001b[0m\u001b[0mpredict\u001b[0m\u001b[0;34m(\u001b[0m\u001b[0madv\u001b[0m\u001b[0;34m)\u001b[0m\u001b[0;34m)\u001b[0m\u001b[0;34m\u001b[0m\u001b[0;34m\u001b[0m\u001b[0m\n",
      "\u001b[0;32m/home/workspace/util/AAA/CorruptionAttacks.py\u001b[0m in \u001b[0;36mApplyCorruptions\u001b[0;34m(x, magnitude, name)\u001b[0m\n\u001b[1;32m     37\u001b[0m         \u001b[0mcorrupt_x\u001b[0m \u001b[0;34m=\u001b[0m \u001b[0mcorrupt\u001b[0m\u001b[0;34m(\u001b[0m\u001b[0mx_np_b\u001b[0m\u001b[0;34m,\u001b[0m \u001b[0mcorruption_name\u001b[0m\u001b[0;34m=\u001b[0m\u001b[0mname\u001b[0m\u001b[0;34m,\u001b[0m \u001b[0mseverity\u001b[0m\u001b[0;34m=\u001b[0m\u001b[0mint\u001b[0m\u001b[0;34m(\u001b[0m\u001b[0mmagnitude\u001b[0m\u001b[0;34m)\u001b[0m\u001b[0;34m)\u001b[0m\u001b[0;34m\u001b[0m\u001b[0;34m\u001b[0m\u001b[0m\n\u001b[1;32m     38\u001b[0m         \u001b[0mcorrupt_x\u001b[0m \u001b[0;34m=\u001b[0m \u001b[0mcorrupt_x\u001b[0m\u001b[0;34m.\u001b[0m\u001b[0mastype\u001b[0m\u001b[0;34m(\u001b[0m\u001b[0mnp\u001b[0m\u001b[0;34m.\u001b[0m\u001b[0mfloat32\u001b[0m\u001b[0;34m)\u001b[0m \u001b[0;34m/\u001b[0m \u001b[0;36m255.\u001b[0m\u001b[0;34m\u001b[0m\u001b[0;34m\u001b[0m\u001b[0m\n\u001b[0;32m---> 39\u001b[0;31m         \u001b[0mprint\u001b[0m\u001b[0;34m(\u001b[0m\u001b[0mcorrupt_x\u001b[0m\u001b[0;34m.\u001b[0m\u001b[0mshape\u001b[0m\u001b[0;34m)\u001b[0m\u001b[0;34m\u001b[0m\u001b[0;34m\u001b[0m\u001b[0m\n\u001b[0m\u001b[1;32m     40\u001b[0m         \u001b[0madv\u001b[0m\u001b[0;34m[\u001b[0m\u001b[0mbatch_idx\u001b[0m\u001b[0;34m]\u001b[0m \u001b[0;34m=\u001b[0m \u001b[0mtorch\u001b[0m\u001b[0;34m.\u001b[0m\u001b[0mfrom_numpy\u001b[0m\u001b[0;34m(\u001b[0m\u001b[0mcorrupt_x\u001b[0m\u001b[0;34m)\u001b[0m\u001b[0;34m.\u001b[0m\u001b[0mpermute\u001b[0m\u001b[0;34m(\u001b[0m\u001b[0;34m(\u001b[0m\u001b[0;36m2\u001b[0m\u001b[0;34m,\u001b[0m\u001b[0;36m0\u001b[0m\u001b[0;34m,\u001b[0m\u001b[0;36m1\u001b[0m\u001b[0;34m)\u001b[0m\u001b[0;34m)\u001b[0m\u001b[0;34m.\u001b[0m\u001b[0mcuda\u001b[0m\u001b[0;34m(\u001b[0m\u001b[0;34m)\u001b[0m\u001b[0;34m\u001b[0m\u001b[0;34m\u001b[0m\u001b[0m\n\u001b[1;32m     41\u001b[0m     \u001b[0;32mreturn\u001b[0m \u001b[0madv\u001b[0m\u001b[0;34m\u001b[0m\u001b[0;34m\u001b[0m\u001b[0m\n",
      "\u001b[0;31mRuntimeError\u001b[0m: number of dims don't match in permute"
     ]
    }
   ],
   "metadata": {}
  }
 ],
 "metadata": {
  "interpreter": {
   "hash": "6dd4df05c99bdc178eafdbc1b1ebc626ddd8eb4bcb4b3c04b648e7012399d42f"
  },
  "kernelspec": {
   "display_name": "Python 3.7.13 ('mid')",
   "language": "python",
   "name": "python3"
  },
  "language_info": {
   "codemirror_mode": {
    "name": "ipython",
    "version": 3
   },
   "file_extension": ".py",
   "mimetype": "text/x-python",
   "name": "python",
   "nbconvert_exporter": "python",
   "pygments_lexer": "ipython3",
   "version": "3.7.13"
  },
  "orig_nbformat": 4
 },
 "nbformat": 4,
 "nbformat_minor": 2
}