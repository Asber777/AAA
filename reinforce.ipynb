{
 "cells": [
  {
   "cell_type": "code",
   "execution_count": null,
   "source": [],
   "outputs": [],
   "metadata": {}
  },
  {
   "cell_type": "code",
   "execution_count": 2,
   "source": [
    "from resnet import ResNet18\n",
    "import numpy as np\n",
    "from torchvision import datasets as ds\n",
    "from torchvision import transforms as tfs\n",
    "from torch.utils.data import DataLoader, Subset\n",
    "\n",
    "def get_loader(bs, ntrain, nval):\n",
    "    data_loc = '/home/.faa/data'\n",
    "    trainset = ds.CIFAR10(root=data_loc, train=True, download=True, transform=tfs.ToTensor())\n",
    "    testset = ds.CIFAR10(root=data_loc, train=False, download=True, transform=tfs.ToTensor())\n",
    "    trainset_ = Subset(trainset, np.arange(0, ntrain))        \n",
    "    valset = Subset(trainset, np.arange(ntrain, ntrain+nval))\n",
    "    train = DataLoader(trainset_, bs, shuffle=True, pin_memory=True, drop_last = True)\n",
    "    val = DataLoader(valset, bs, shuffle=True, pin_memory=True, drop_last = True) \n",
    "    test = DataLoader(testset, bs, shuffle=True, pin_memory=True, drop_last = True)\n",
    "    return train, val, test\n",
    "train, val, test = get_loader(10, 100, 100)"
   ],
   "outputs": [
    {
     "output_type": "stream",
     "name": "stdout",
     "text": [
      "Files already downloaded and verified\n",
      "Files already downloaded and verified\n"
     ]
    }
   ],
   "metadata": {}
  },
  {
   "cell_type": "code",
   "execution_count": 3,
   "source": [
    "model = ResNet18(5, 3)\n",
    "for x, y in train:\n",
    "    break\n",
    "prob = model(x)"
   ],
   "outputs": [],
   "metadata": {}
  },
  {
   "cell_type": "code",
   "execution_count": 11,
   "source": [
    "import torch.nn.functional as F\n",
    "probs = F.softmax(model(x), dim=1)"
   ],
   "outputs": [],
   "metadata": {}
  },
  {
   "cell_type": "code",
   "execution_count": 12,
   "source": [
    "probs"
   ],
   "outputs": [
    {
     "output_type": "execute_result",
     "data": {
      "text/plain": [
       "tensor([[0.2742, 0.1823, 0.1483, 0.1563, 0.2390],\n",
       "        [0.2802, 0.1519, 0.1434, 0.1635, 0.2610],\n",
       "        [0.2601, 0.1474, 0.1690, 0.1796, 0.2438],\n",
       "        [0.2923, 0.1879, 0.1057, 0.1513, 0.2629],\n",
       "        [0.2245, 0.1542, 0.1607, 0.2090, 0.2515],\n",
       "        [0.2385, 0.1768, 0.1877, 0.1604, 0.2367],\n",
       "        [0.2746, 0.1666, 0.1714, 0.1535, 0.2338],\n",
       "        [0.3148, 0.1718, 0.1320, 0.1608, 0.2205],\n",
       "        [0.2878, 0.1569, 0.1601, 0.1609, 0.2343],\n",
       "        [0.2780, 0.1810, 0.1231, 0.1373, 0.2805]], grad_fn=<SoftmaxBackward>)"
      ]
     },
     "metadata": {},
     "execution_count": 12
    }
   ],
   "metadata": {}
  },
  {
   "cell_type": "code",
   "execution_count": 13,
   "source": [
    "action = probs.multinomial(num_samples=1).data"
   ],
   "outputs": [],
   "metadata": {}
  },
  {
   "cell_type": "code",
   "execution_count": 14,
   "source": [
    "action"
   ],
   "outputs": [
    {
     "output_type": "execute_result",
     "data": {
      "text/plain": [
       "tensor([[1],\n",
       "        [0],\n",
       "        [2],\n",
       "        [4],\n",
       "        [0],\n",
       "        [4],\n",
       "        [0],\n",
       "        [0],\n",
       "        [2],\n",
       "        [3]])"
      ]
     },
     "metadata": {},
     "execution_count": 14
    }
   ],
   "metadata": {}
  },
  {
   "cell_type": "code",
   "execution_count": 17,
   "source": [
    "prob = probs[:, action[0,0]].view(1, -1)"
   ],
   "outputs": [
    {
     "output_type": "execute_result",
     "data": {
      "text/plain": [
       "tensor([[0.1823, 0.2742, 0.1483, 0.2390, 0.2742, 0.2390, 0.2742, 0.2742, 0.1483,\n",
       "         0.1563, 0.1519, 0.2802, 0.1434, 0.2610, 0.2802, 0.2610, 0.2802, 0.2802,\n",
       "         0.1434, 0.1635, 0.1474, 0.2601, 0.1690, 0.2438, 0.2601, 0.2438, 0.2601,\n",
       "         0.2601, 0.1690, 0.1796, 0.1879, 0.2923, 0.1057, 0.2629, 0.2923, 0.2629,\n",
       "         0.2923, 0.2923, 0.1057, 0.1513, 0.1542, 0.2245, 0.1607, 0.2515, 0.2245,\n",
       "         0.2515, 0.2245, 0.2245, 0.1607, 0.2090, 0.1768, 0.2385, 0.1877, 0.2367,\n",
       "         0.2385, 0.2367, 0.2385, 0.2385, 0.1877, 0.1604, 0.1666, 0.2746, 0.1714,\n",
       "         0.2338, 0.2746, 0.2338, 0.2746, 0.2746, 0.1714, 0.1535, 0.1718, 0.3148,\n",
       "         0.1320, 0.2205, 0.3148, 0.2205, 0.3148, 0.3148, 0.1320, 0.1608, 0.1569,\n",
       "         0.2878, 0.1601, 0.2343, 0.2878, 0.2343, 0.2878, 0.2878, 0.1601, 0.1609,\n",
       "         0.1810, 0.2780, 0.1231, 0.2805, 0.2780, 0.2805, 0.2780, 0.2780, 0.1231,\n",
       "         0.1373]], grad_fn=<ViewBackward>)"
      ]
     },
     "metadata": {},
     "execution_count": 17
    }
   ],
   "metadata": {}
  },
  {
   "cell_type": "code",
   "execution_count": 16,
   "source": [
    "action[0,0]"
   ],
   "outputs": [
    {
     "output_type": "execute_result",
     "data": {
      "text/plain": [
       "tensor(1)"
      ]
     },
     "metadata": {},
     "execution_count": 16
    }
   ],
   "metadata": {}
  },
  {
   "cell_type": "code",
   "execution_count": null,
   "source": [],
   "outputs": [],
   "metadata": {}
  }
 ],
 "metadata": {
  "orig_nbformat": 4,
  "language_info": {
   "name": "python",
   "version": "3.7.13",
   "mimetype": "text/x-python",
   "codemirror_mode": {
    "name": "ipython",
    "version": 3
   },
   "pygments_lexer": "ipython3",
   "nbconvert_exporter": "python",
   "file_extension": ".py"
  },
  "kernelspec": {
   "name": "python3",
   "display_name": "Python 3.7.13 64-bit ('mmid': conda)"
  },
  "interpreter": {
   "hash": "4325419469c1debda1c9307c9537bfbe6883b9b02ca5ce3eee533e15a492d051"
  }
 },
 "nbformat": 4,
 "nbformat_minor": 2
}